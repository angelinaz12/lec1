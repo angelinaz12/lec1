{
 "cells": [
  {
   "cell_type": "code",
   "execution_count": 1,
   "metadata": {},
   "outputs": [],
   "source": [
    "#задание 1"
   ]
  },
  {
   "cell_type": "code",
   "execution_count": 26,
   "metadata": {},
   "outputs": [
    {
     "name": "stdout",
     "output_type": "stream",
     "text": [
      "фраза 1 длинее фразы 2\n"
     ]
    }
   ],
   "source": [
    "phrase_1='Приввет,как дела?'\n",
    "phrase_2='Я учусь в Нетологии на аналитика'\n",
    "if len(phrase_1)<len(phrase_2):\n",
    "    print('фраза 1 короче фразы 2')\n",
    "elif len(phrase_1)>len(phrase_2):\n",
    "    print('фраза 1 длинее фразы 2')\n",
    "else:\n",
    "    print('фразы равной длины')"
   ]
  },
  {
   "cell_type": "code",
   "execution_count": 30,
   "metadata": {},
   "outputs": [],
   "source": [
    "#задание 2"
   ]
  },
  {
   "cell_type": "code",
   "execution_count": 44,
   "metadata": {},
   "outputs": [
    {
     "name": "stdout",
     "output_type": "stream",
     "text": [
      "високосный год\n"
     ]
    }
   ],
   "source": [
    "year=1600\n",
    "if year %4 !=0 or (year % 100==0 and year % 400 !=0):\n",
    "    print('обычный год')\n",
    "else:\n",
    "    print('високосный год')\n",
    "    "
   ]
  },
  {
   "cell_type": "code",
   "execution_count": 14,
   "metadata": {},
   "outputs": [
    {
     "name": "stdout",
     "output_type": "stream",
     "text": [
      "Введите день рождения:22\n",
      "Введите месяц рождения(число):10\n",
      "Знак зодиака-Весы\n"
     ]
    }
   ],
   "source": [
    "#задание 3\n",
    "\n",
    "day=int(input(\"Введите день рождения:\"))\n",
    "month=int(input(\"Введите месяц рождения(число):\"))\n",
    "\n",
    "if (day>=21 and day<=31 and month==3) or (day>=1 and day<=20 and month==4):\n",
    "        print (\"Знак зодиака-Овен\")\n",
    "elif(day>=21 and day<=30 and month==4) or (day>=1 and day<=21 and month==5):\n",
    "    print(\"Знак зодиака-Телец\")\n",
    "elif(day>=22 and day<=31 and month==5) or (day>=1 and day<=21 and month==6):\n",
    "    print(\"Знак зодиака-Близнецы\")\n",
    "elif(day>=22 and day<=30 and month==6) or (day>=1 and day<=22 and month==7):\n",
    "    print(\"Знак зодиака-Рак\")\n",
    "elif(day>=23 and day<=31 and month==7) or (day>=1 and day<=22 and month==8):\n",
    "    print(\"Знак зодиака-Лев\")\n",
    "elif(day>=23 and day<=31 and month==8)or(day>=1 and day<=23 and month==9):\n",
    "    print(\"Знак зодиака-Дева\")\n",
    "elif(day>=23 and day<=30 and month==9) or (day>=1 and day<=23 and month==10):\n",
    "    print(\"Знак зодиака-Весы\")\n",
    "elif(day>=24 and day<=31 and month==10) or (day>=1 and day<=22 and month==11):\n",
    "    print(\"Знак зодиака-Скорпион\")\n",
    "elif(day>=23 and day<=30 and month==11) or (day>=1 and day<=22 and month==12):\n",
    "    print(\"Знак зодиака-Стрелец\")\n",
    "elif(day>=23 and day<=31 and month==12) or (day>=1 and day<=20 and month==1):\n",
    "    print(\"Знак зодиака-Козерог\")\n",
    "elif(day>=21 and day<=31 and month==31) or (day>=1 and day<=19 and month==2):\n",
    "    print(\"Знак зодиака-Водолей\")\n",
    "elif(day>=20 and day<=29 and month==2) or (day>=1 and day<=20 and month==3):\n",
    "    print(\"Знак зодиака-Рыба\")\n",
    "            "
   ]
  },
  {
   "cell_type": "code",
   "execution_count": 22,
   "metadata": {},
   "outputs": [
    {
     "name": "stdout",
     "output_type": "stream",
     "text": [
      "Введите ширину товара в сантиметрах45\n",
      "Введите длину товара в сантиметрах6\n",
      "Введите высоту товара в сантиметрах7\n",
      "Коробка №2\n"
     ]
    }
   ],
   "source": [
    "#задание 4\n",
    "width=int(input(\"Введите ширину товара в сантиметрах\"))\n",
    "length=int(input(\"Введите длину товара в сантиметрах\"))\n",
    "height=int(input(\"Введите высоту товара в сантиметрах\"))\n",
    "\n",
    "if width<15 and length<15 and height<15:\n",
    "    print(\"Коробка №1\")\n",
    "elif 15<width<50 or 15<length<50 or 15<height<50:\n",
    "    print(\"Коробка №2\")\n",
    "elif length>200:\n",
    "    print(\"Упаковка для лыж\")\n",
    "else:\n",
    "    print(\"Стандартная коробка №3\")"
   ]
  }
 ],
 "metadata": {
  "kernelspec": {
   "display_name": "Python 3",
   "language": "python",
   "name": "python3"
  },
  "language_info": {
   "codemirror_mode": {
    "name": "ipython",
    "version": 3
   },
   "file_extension": ".py",
   "mimetype": "text/x-python",
   "name": "python",
   "nbconvert_exporter": "python",
   "pygments_lexer": "ipython3",
   "version": "3.8.5"
  }
 },
 "nbformat": 4,
 "nbformat_minor": 4
}
